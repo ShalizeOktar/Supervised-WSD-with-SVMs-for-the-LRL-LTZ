{
 "cells": [
  {
   "cell_type": "markdown",
   "id": "47d13d23",
   "metadata": {},
   "source": [
    "Supervised WSD with SVM's for LRL's or"
   ]
  },
  {
   "cell_type": "markdown",
   "id": "8e9b4494",
   "metadata": {},
   "source": [
    "# Supervised Word Sense Disambiguation with Support Vector Machines for low resource languages:"
   ]
  },
  {
   "cell_type": "code",
   "execution_count": 2,
   "id": "27dcf5aa",
   "metadata": {},
   "outputs": [],
   "source": [
    "#Daten aufbereiten\n",
    "import pandas as pd\n",
    "#Daten aufteilen in Test und Training\n",
    "from sklearn.model_selection import train_test_split\n",
    "from sklearn.preprocessing import StandardScaler\n",
    "#Support Vector Machine\n",
    "from sklearn.svm import SVC"
   ]
  },
  {
   "cell_type": "code",
   "execution_count": null,
   "id": "832625a1",
   "metadata": {},
   "outputs": [],
   "source": []
  }
 ],
 "metadata": {
  "kernelspec": {
   "display_name": "Python 3",
   "language": "python",
   "name": "python3"
  },
  "language_info": {
   "codemirror_mode": {
    "name": "ipython",
    "version": 3
   },
   "file_extension": ".py",
   "mimetype": "text/x-python",
   "name": "python",
   "nbconvert_exporter": "python",
   "pygments_lexer": "ipython3",
   "version": "3.8.8"
  }
 },
 "nbformat": 4,
 "nbformat_minor": 5
}
