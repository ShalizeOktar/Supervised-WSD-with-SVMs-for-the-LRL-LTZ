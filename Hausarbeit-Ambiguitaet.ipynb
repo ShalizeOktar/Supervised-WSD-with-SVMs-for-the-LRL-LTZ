{
 "cells": [
  {
   "cell_type": "markdown",
   "id": "c8087838",
   "metadata": {},
   "source": [
    "Supervised WSD with SVM for the LRL LTZ or"
   ]
  },
  {
   "cell_type": "markdown",
   "id": "9fef9306",
   "metadata": {},
   "source": [
    "# Supervised Word Sense Disambiguation with Support Vector Machines for the Low-Resource language Luxembourgish:"
   ]
  },
  {
   "cell_type": "code",
   "execution_count": 1,
   "id": "0e36d459",
   "metadata": {},
   "outputs": [],
   "source": [
    "#Prepare data:\n",
    "import pandas as pd\n",
    "#WSD and evaluation:\n",
    "from sklearn.model_selection import train_test_split\n",
    "from sklearn.feature_extraction.text import CountVectorizer\n",
    "from sklearn.metrics import classification_report\n",
    "from sklearn.svm import LinearSVC\n",
    "from sklearn.model_selection import cross_val_score\n",
    "from sklearn.model_selection import KFold"
   ]
  },
  {
   "cell_type": "markdown",
   "id": "43c70fb6",
   "metadata": {},
   "source": [
    "# Data:"
   ]
  },
  {
   "cell_type": "code",
   "execution_count": 2,
   "id": "1184f06d",
   "metadata": {},
   "outputs": [],
   "source": [
    "data_Fra = {\n",
    "    \"sentence\":[\"Si ass meng Fra.\",\"Du bass keng Fra.\",\"Déi Fra ass Léierin.\",\"D'Mary ass meng Fra.\",\"Ech sinn eng Fra.\",\"Den Tom ass e Mann, an ech sinn eng Fra.\",\"Meng Fra ass Lëtzebuergerin.\",\"Ech sinn Déierendokter a meng Fra ass Sekretärin.\", \"Ech presentéieren Iech meng Fra.\",\"Déi ass meng Fra.\"],\n",
    "    \"sense\":[2,1,1,2,1,1,2,2,2,2]\n",
    "}\n",
    "data_Meedchen = {\n",
    "    \"sentence\":[\"D'Meedchen huet et och gesinn.\",\"Mäi Meedchen huet muer Rendez-vous beim Zänndokter.\",\"Ech sinn e Meedchen.\",\"Tom a Mary hunn e Meedchen.\",\"Den Tom ass e Jong, an d'Mary ass e Meedchen.\",\"Ech sinn der Madame Schneider hiert Meedchen.\",\"D'Meedchen huet et och gesinn.\",\"Ech sinn der Madame Schneider hiert Meedchen.\",\"Mäi Meedchen huet muer Rendez-vous beim Zänndokter.\",\"Wat ass dat e léift Meedchen!\",\"Hie bestit e räicht Meedchen.\",\"Dem Bäcker säi Meedche gëtt déi aner Woch bestuet.\",\"Säi klengt Meedchen ass eng richteg Babbel.\"],\n",
    "    \"sense\":[1,2,1,2,1,2,1,1,2,1,1,2,2]\n",
    "}\n",
    "data_Land = {\n",
    "    \"sentence\":[\"Reen ass rar an dësem Land.\",\"Dëst Land huet e strenge Klima.\",\"Griicheland ass en aalt Land.\",\"Mengem Land säin Numm ass 'Russland'.\",\"Reen ass rar an dësem Land.\",\"Dat ass eng Spezialitéit aus mengem Land.\",\"Eist Land huet Grenze mat dräi anere Länner.\",\"Mäi Cousin war schonn an iwwer 30 Länner an der Vakanz.\",\"Hien ass nees zu Land.\",\"D'ganzt Land steet hanner senger Fussballsekipp.\",\"All d'Awunner vum Land stinn hanner hirer Fussballsekipp.\",\"No véier Deeg um Mier ware mer frou, Land ze gesinn.\",\"D'Passagéier sinn am Hafen u Land gaangen.\"],\n",
    "    \"sense\":[1,1,1,1,1,1,1,1,1,1,1,3,3]\n",
    "}\n",
    "data_falsch = {\n",
    "    \"sentence\":[\"Du hues näischt falsch gemaach.\",\"Deng Äntwert ass falsch.\",\"Är Äntwert ass falsch.\",\"Deng Äntwert ass falsch.\",\"Zënter sengem Accident huet dee jonke Mann falsch Zänn.\",\"Vun Zäit zu Zäit dauche falsch Geldschäiner op.\",\"Déi Rechnung ass falsch.\",\"De Klarinettist huet ganz falsch gespillt.\",\"Mir sinn op der Gare an de falsche Bus geklommen.\",\"Hei sidd Dir falsch!\",\"Hei sidd Dir op der falscher Plaz.\",\"Hien huet eng falsch Beweegung gemaach.\",\"Wéi kann een nëmmen esou falsch sinn!\",\"Hien ass e falschen Hond!\",\"Maach der keng falsch Hoffnungen!\",\"Et war falschen Alarm.\",\"Zënter sengem Accident huet dee jonke Mann falsch Zänn.\",\"Vun Zäit zu Zäit dauche falsch Geldschäiner op.\"],\n",
    "    \"sense\":[2,1,1,1,5,5,1,1,2,2,2,2,3,3,4,4,5,5]\n",
    "}"
   ]
  },
  {
   "cell_type": "markdown",
   "id": "d0c3a626",
   "metadata": {},
   "source": [
    "# Fra:"
   ]
  },
  {
   "cell_type": "code",
   "execution_count": 3,
   "id": "1e8dd9c2",
   "metadata": {
    "scrolled": false
   },
   "outputs": [
    {
     "data": {
      "text/plain": [
       "2    6\n",
       "1    4\n",
       "Name: sense, dtype: int64"
      ]
     },
     "execution_count": 3,
     "metadata": {},
     "output_type": "execute_result"
    }
   ],
   "source": [
    "df = pd.DataFrame(data_Fra)\n",
    "X = df[\"sentence\"]\n",
    "y = df[\"sense\"]\n",
    "\n",
    "vectorizer = CountVectorizer(ngram_range=(1, 2), min_df=1)\n",
    "\n",
    "X = vectorizer.fit_transform(X)\n",
    "X = X.toarray()\n",
    "vocab = vectorizer.get_feature_names()\n",
    "df[\"sense\"].value_counts()"
   ]
  },
  {
   "cell_type": "markdown",
   "id": "abd2c646",
   "metadata": {},
   "source": [
    "# Train-Test:"
   ]
  },
  {
   "cell_type": "code",
   "execution_count": 4,
   "id": "e1e4d00b",
   "metadata": {},
   "outputs": [],
   "source": [
    "#Split data into test and train:\n",
    "X_train, X_test, y_train, y_test = train_test_split(X, y, test_size=0.33, random_state=42)\n",
    "# X -> LTZ sentences\n",
    "# y -> senses"
   ]
  },
  {
   "cell_type": "code",
   "execution_count": 5,
   "id": "5fe84d5d",
   "metadata": {},
   "outputs": [
    {
     "name": "stdout",
     "output_type": "stream",
     "text": [
      "              precision    recall  f1-score   support\n",
      "\n",
      "           1       1.00      1.00      1.00         2\n",
      "           2       1.00      1.00      1.00         2\n",
      "\n",
      "    accuracy                           1.00         4\n",
      "   macro avg       1.00      1.00      1.00         4\n",
      "weighted avg       1.00      1.00      1.00         4\n",
      "\n"
     ]
    }
   ],
   "source": [
    "#Setup:\n",
    "svm_clf = LinearSVC(C=1)\n",
    "#Train:\n",
    "svm_clf.fit(X_train, y_train)\n",
    "#Test:\n",
    "predictionSVC = svm_clf.predict(X_test)\n",
    "#Evaluate:\n",
    "print(classification_report(y_test,predictionSVC))"
   ]
  },
  {
   "cell_type": "markdown",
   "id": "3ec1592b",
   "metadata": {},
   "source": [
    "# k-fold validation:"
   ]
  },
  {
   "cell_type": "markdown",
   "id": "7e05cd82",
   "metadata": {},
   "source": [
    "with shuffle = True:"
   ]
  },
  {
   "cell_type": "code",
   "execution_count": 6,
   "id": "f5ee5b4f",
   "metadata": {
    "scrolled": true
   },
   "outputs": [
    {
     "name": "stdout",
     "output_type": "stream",
     "text": [
      "[1.  1.  0.5 1.  1.  1.  1. ]\n",
      "0.93 accuracy with a standard deviation of 0.17\n"
     ]
    }
   ],
   "source": [
    "folds = KFold(n_splits=7, shuffle=True, random_state=42)\n",
    "scores = cross_val_score(svm_clf, X, y, cv=folds)\n",
    "print(scores)\n",
    "print(\"%0.2f accuracy with a standard deviation of %0.2f\" % (scores.mean(), scores.std()))\n",
    "#source: https://scikit-learn.org/stable/modules/cross_validation.html"
   ]
  },
  {
   "cell_type": "markdown",
   "id": "020e4a83",
   "metadata": {},
   "source": [
    "with shuffle = False:"
   ]
  },
  {
   "cell_type": "code",
   "execution_count": 7,
   "id": "6f1440be",
   "metadata": {
    "scrolled": true
   },
   "outputs": [
    {
     "name": "stdout",
     "output_type": "stream",
     "text": [
      "[1.         0.66666667 1.         1.        ]\n",
      "0.92 accuracy with a standard deviation of 0.14\n"
     ]
    }
   ],
   "source": [
    "folds = 4\n",
    "scores = cross_val_score(svm_clf, X, y, cv=folds)\n",
    "print(scores)\n",
    "print(\"%0.2f accuracy with a standard deviation of %0.2f\" % (scores.mean(), scores.std()))\n",
    "#source: https://scikit-learn.org/stable/modules/cross_validation.html"
   ]
  },
  {
   "cell_type": "markdown",
   "id": "a0493237",
   "metadata": {},
   "source": [
    "# Meedchen:"
   ]
  },
  {
   "cell_type": "code",
   "execution_count": 8,
   "id": "da084b46",
   "metadata": {
    "scrolled": false
   },
   "outputs": [
    {
     "data": {
      "text/plain": [
       "1    7\n",
       "2    6\n",
       "Name: sense, dtype: int64"
      ]
     },
     "execution_count": 8,
     "metadata": {},
     "output_type": "execute_result"
    }
   ],
   "source": [
    "df = pd.DataFrame(data_Meedchen)\n",
    "X = df[\"sentence\"]\n",
    "y = df[\"sense\"]\n",
    "\n",
    "vectorizer = CountVectorizer(ngram_range=(1, 2), min_df=1)\n",
    "\n",
    "X = vectorizer.fit_transform(X)\n",
    "X = X.toarray()\n",
    "vocab = vectorizer.get_feature_names()\n",
    "df[\"sense\"].value_counts()"
   ]
  },
  {
   "cell_type": "markdown",
   "id": "a10bf2de",
   "metadata": {},
   "source": [
    "# Train-Test:"
   ]
  },
  {
   "cell_type": "code",
   "execution_count": 9,
   "id": "ad4d6df6",
   "metadata": {},
   "outputs": [],
   "source": [
    "#Split data into test and train:\n",
    "X_train, X_test, y_train, y_test = train_test_split(X, y, test_size=0.33, random_state=42)\n",
    "# X -># Train-Test: LTZ sentences\n",
    "# y -> senses"
   ]
  },
  {
   "cell_type": "code",
   "execution_count": 10,
   "id": "cef29815",
   "metadata": {},
   "outputs": [
    {
     "name": "stdout",
     "output_type": "stream",
     "text": [
      "              precision    recall  f1-score   support\n",
      "\n",
      "           1       0.67      1.00      0.80         2\n",
      "           2       1.00      0.67      0.80         3\n",
      "\n",
      "    accuracy                           0.80         5\n",
      "   macro avg       0.83      0.83      0.80         5\n",
      "weighted avg       0.87      0.80      0.80         5\n",
      "\n"
     ]
    }
   ],
   "source": [
    "#Setup:\n",
    "svm_clf = LinearSVC(C=1)\n",
    "#Train:\n",
    "svm_clf.fit(X_train, y_train)\n",
    "#Test:\n",
    "predictionSVC = svm_clf.predict(X_test)\n",
    "#Evaluate:\n",
    "print(classification_report(y_test,predictionSVC))"
   ]
  },
  {
   "cell_type": "markdown",
   "id": "bf610f60",
   "metadata": {},
   "source": [
    "# k-fold validation:"
   ]
  },
  {
   "cell_type": "markdown",
   "id": "0d5dd984",
   "metadata": {},
   "source": [
    "with shuffle = True:"
   ]
  },
  {
   "cell_type": "code",
   "execution_count": 11,
   "id": "b91dc6e7",
   "metadata": {
    "scrolled": true
   },
   "outputs": [
    {
     "name": "stdout",
     "output_type": "stream",
     "text": [
      "[1.         0.66666667 0.66666667 0.5        0.5       ]\n",
      "0.67 accuracy with a standard deviation of 0.18\n"
     ]
    }
   ],
   "source": [
    "folds = KFold(n_splits=5, shuffle=True, random_state=42)\n",
    "scores = cross_val_score(svm_clf, X, y, cv=folds)\n",
    "print(scores)\n",
    "print(\"%0.2f accuracy with a standard deviation of %0.2f\" % (scores.mean(), scores.std()))\n",
    "#source: https://scikit-learn.org/stable/modules/cross_validation.html"
   ]
  },
  {
   "cell_type": "markdown",
   "id": "b2a3cd9f",
   "metadata": {},
   "source": [
    "with shuffle = False:"
   ]
  },
  {
   "cell_type": "code",
   "execution_count": 12,
   "id": "2104817d",
   "metadata": {},
   "outputs": [
    {
     "name": "stdout",
     "output_type": "stream",
     "text": [
      "[1.         0.66666667 0.66666667 1.         0.5       ]\n",
      "0.77 accuracy with a standard deviation of 0.20\n"
     ]
    }
   ],
   "source": [
    "folds = 5\n",
    "scores = cross_val_score(svm_clf, X, y, cv=folds)\n",
    "print(scores)\n",
    "print(\"%0.2f accuracy with a standard deviation of %0.2f\" % (scores.mean(), scores.std()))\n",
    "#source: https://scikit-learn.org/stable/modules/cross_validation.html"
   ]
  },
  {
   "cell_type": "markdown",
   "id": "296e4524",
   "metadata": {},
   "source": [
    "# Falsch:"
   ]
  },
  {
   "cell_type": "code",
   "execution_count": 13,
   "id": "fdf876aa",
   "metadata": {
    "scrolled": false
   },
   "outputs": [
    {
     "data": {
      "text/plain": [
       "1    5\n",
       "2    5\n",
       "5    4\n",
       "3    2\n",
       "4    2\n",
       "Name: sense, dtype: int64"
      ]
     },
     "execution_count": 13,
     "metadata": {},
     "output_type": "execute_result"
    }
   ],
   "source": [
    "df = pd.DataFrame(data_falsch)\n",
    "X = df[\"sentence\"]\n",
    "y = df[\"sense\"]\n",
    "\n",
    "vectorizer = CountVectorizer(ngram_range=(1, 2), min_df=1)\n",
    "\n",
    "X = vectorizer.fit_transform(X)\n",
    "X = X.toarray()\n",
    "vocab = vectorizer.get_feature_names()\n",
    "df[\"sense\"].value_counts()"
   ]
  },
  {
   "cell_type": "markdown",
   "id": "befee23b",
   "metadata": {},
   "source": [
    "# Train-Test:"
   ]
  },
  {
   "cell_type": "code",
   "execution_count": 14,
   "id": "592b1390",
   "metadata": {},
   "outputs": [],
   "source": [
    "#Split data into test and train:\n",
    "X_train, X_test, y_train, y_test = train_test_split(X, y, test_size=0.33, random_state=42)\n",
    "# X -> LTZ sentences\n",
    "# y -> senses"
   ]
  },
  {
   "cell_type": "code",
   "execution_count": 15,
   "id": "a0d6c5e6",
   "metadata": {
    "scrolled": true
   },
   "outputs": [
    {
     "name": "stdout",
     "output_type": "stream",
     "text": [
      "              precision    recall  f1-score   support\n",
      "\n",
      "           1       0.50      1.00      0.67         2\n",
      "           2       1.00      0.50      0.67         2\n",
      "           3       0.00      0.00      0.00         1\n",
      "           5       1.00      1.00      1.00         1\n",
      "\n",
      "    accuracy                           0.67         6\n",
      "   macro avg       0.62      0.62      0.58         6\n",
      "weighted avg       0.67      0.67      0.61         6\n",
      "\n"
     ]
    },
    {
     "name": "stderr",
     "output_type": "stream",
     "text": [
      "/Users/shalize/opt/anaconda3/lib/python3.8/site-packages/sklearn/metrics/_classification.py:1245: UndefinedMetricWarning: Precision and F-score are ill-defined and being set to 0.0 in labels with no predicted samples. Use `zero_division` parameter to control this behavior.\n",
      "  _warn_prf(average, modifier, msg_start, len(result))\n",
      "/Users/shalize/opt/anaconda3/lib/python3.8/site-packages/sklearn/metrics/_classification.py:1245: UndefinedMetricWarning: Precision and F-score are ill-defined and being set to 0.0 in labels with no predicted samples. Use `zero_division` parameter to control this behavior.\n",
      "  _warn_prf(average, modifier, msg_start, len(result))\n",
      "/Users/shalize/opt/anaconda3/lib/python3.8/site-packages/sklearn/metrics/_classification.py:1245: UndefinedMetricWarning: Precision and F-score are ill-defined and being set to 0.0 in labels with no predicted samples. Use `zero_division` parameter to control this behavior.\n",
      "  _warn_prf(average, modifier, msg_start, len(result))\n"
     ]
    }
   ],
   "source": [
    "#Setup:\n",
    "svm_clf = LinearSVC(C=1)\n",
    "#Train:\n",
    "svm_clf.fit(X_train, y_train)\n",
    "#Test:\n",
    "predictionSVC = svm_clf.predict(X_test)\n",
    "#Evaluate:\n",
    "print(classification_report(y_test,predictionSVC))"
   ]
  },
  {
   "cell_type": "markdown",
   "id": "4ca27cc5",
   "metadata": {},
   "source": [
    "# k-fold validation:"
   ]
  },
  {
   "cell_type": "markdown",
   "id": "efbb6962",
   "metadata": {},
   "source": [
    "with shuffle = True:"
   ]
  },
  {
   "cell_type": "code",
   "execution_count": 16,
   "id": "4d746a1f",
   "metadata": {
    "scrolled": true
   },
   "outputs": [
    {
     "name": "stdout",
     "output_type": "stream",
     "text": [
      "[0.66666667 0.66666667 0.66666667 1.         0.33333333 0.66666667]\n",
      "0.67 accuracy with a standard deviation of 0.19\n"
     ]
    }
   ],
   "source": [
    "folds = KFold(n_splits=6, shuffle=True, random_state=42)\n",
    "scores = cross_val_score(svm_clf, X, y, cv=folds)\n",
    "print(scores)\n",
    "print(\"%0.2f accuracy with a standard deviation of %0.2f\" % (scores.mean(), scores.std()))\n",
    "#source: https://scikit-learn.org/stable/modules/cross_validation.html"
   ]
  },
  {
   "cell_type": "markdown",
   "id": "dfde9a07",
   "metadata": {},
   "source": [
    "with shuffle = False:"
   ]
  },
  {
   "cell_type": "code",
   "execution_count": 17,
   "id": "4ea9060e",
   "metadata": {},
   "outputs": [
    {
     "name": "stdout",
     "output_type": "stream",
     "text": [
      "0.67 accuracy with a standard deviation of 0.00\n"
     ]
    }
   ],
   "source": [
    "folds = 2\n",
    "scores = cross_val_score(svm_clf, X, y, cv=folds)\n",
    "print(\"%0.2f accuracy with a standard deviation of %0.2f\" % (scores.mean(), scores.std()))\n",
    "#source: https://scikit-learn.org/stable/modules/cross_validation.html"
   ]
  },
  {
   "cell_type": "markdown",
   "id": "adcb9dc5",
   "metadata": {},
   "source": [
    "# Land:"
   ]
  },
  {
   "cell_type": "code",
   "execution_count": 18,
   "id": "76174b13",
   "metadata": {
    "scrolled": false
   },
   "outputs": [
    {
     "data": {
      "text/plain": [
       "1    11\n",
       "3     2\n",
       "Name: sense, dtype: int64"
      ]
     },
     "execution_count": 18,
     "metadata": {},
     "output_type": "execute_result"
    }
   ],
   "source": [
    "df = pd.DataFrame(data_Land)\n",
    "X = df[\"sentence\"]\n",
    "y = df[\"sense\"]\n",
    "\n",
    "vectorizer = CountVectorizer(ngram_range=(1, 2), min_df=1)\n",
    "\n",
    "X = vectorizer.fit_transform(X)\n",
    "X = X.toarray()\n",
    "vocab = vectorizer.get_feature_names()\n",
    "df[\"sense\"].value_counts()"
   ]
  },
  {
   "cell_type": "markdown",
   "id": "23fc3a64",
   "metadata": {},
   "source": [
    "# Train-Test:"
   ]
  },
  {
   "cell_type": "code",
   "execution_count": 19,
   "id": "21d870dc",
   "metadata": {},
   "outputs": [],
   "source": [
    "#Split data into test and train:\n",
    "X_train, X_test, y_train, y_test = train_test_split(X, y, test_size=0.33, random_state=42)\n",
    "# X -> LTZ sentences\n",
    "# y -> senses"
   ]
  },
  {
   "cell_type": "code",
   "execution_count": 20,
   "id": "6f2dd558",
   "metadata": {},
   "outputs": [
    {
     "name": "stdout",
     "output_type": "stream",
     "text": [
      "              precision    recall  f1-score   support\n",
      "\n",
      "           1       0.80      1.00      0.89         4\n",
      "           3       0.00      0.00      0.00         1\n",
      "\n",
      "    accuracy                           0.80         5\n",
      "   macro avg       0.40      0.50      0.44         5\n",
      "weighted avg       0.64      0.80      0.71         5\n",
      "\n"
     ]
    },
    {
     "name": "stderr",
     "output_type": "stream",
     "text": [
      "/Users/shalize/opt/anaconda3/lib/python3.8/site-packages/sklearn/metrics/_classification.py:1245: UndefinedMetricWarning: Precision and F-score are ill-defined and being set to 0.0 in labels with no predicted samples. Use `zero_division` parameter to control this behavior.\n",
      "  _warn_prf(average, modifier, msg_start, len(result))\n",
      "/Users/shalize/opt/anaconda3/lib/python3.8/site-packages/sklearn/metrics/_classification.py:1245: UndefinedMetricWarning: Precision and F-score are ill-defined and being set to 0.0 in labels with no predicted samples. Use `zero_division` parameter to control this behavior.\n",
      "  _warn_prf(average, modifier, msg_start, len(result))\n",
      "/Users/shalize/opt/anaconda3/lib/python3.8/site-packages/sklearn/metrics/_classification.py:1245: UndefinedMetricWarning: Precision and F-score are ill-defined and being set to 0.0 in labels with no predicted samples. Use `zero_division` parameter to control this behavior.\n",
      "  _warn_prf(average, modifier, msg_start, len(result))\n"
     ]
    }
   ],
   "source": [
    "#Setup:\n",
    "svm_clf = LinearSVC(C=1)\n",
    "#Train:\n",
    "svm_clf.fit(X_train, y_train)\n",
    "#Test:\n",
    "predictionSVC = svm_clf.predict(X_test)\n",
    "#Evaluate:\n",
    "print(classification_report(y_test,predictionSVC))"
   ]
  },
  {
   "cell_type": "markdown",
   "id": "8d218312",
   "metadata": {},
   "source": [
    "# k-fold validation:"
   ]
  },
  {
   "cell_type": "markdown",
   "id": "3b7643d2",
   "metadata": {},
   "source": [
    "with shuffle = True:"
   ]
  },
  {
   "cell_type": "code",
   "execution_count": 21,
   "id": "223a6c1b",
   "metadata": {
    "scrolled": true
   },
   "outputs": [
    {
     "name": "stdout",
     "output_type": "stream",
     "text": [
      "[0.5 1.  1.  0.5 1.  1.  1.  1.  1. ]\n",
      "0.89 accuracy with a standard deviation of 0.21\n"
     ]
    }
   ],
   "source": [
    "folds = KFold(n_splits=9, shuffle=True, random_state=42)\n",
    "scores = cross_val_score(svm_clf, X, y, cv=folds)\n",
    "print(scores)\n",
    "print(\"%0.2f accuracy with a standard deviation of %0.2f\" % (scores.mean(), scores.std()))\n",
    "#source: https://scikit-learn.org/stable/modules/cross_validation.html"
   ]
  },
  {
   "cell_type": "markdown",
   "id": "6156601d",
   "metadata": {},
   "source": [
    "with shuffle = False:"
   ]
  },
  {
   "cell_type": "code",
   "execution_count": 22,
   "id": "857022f4",
   "metadata": {
    "scrolled": true
   },
   "outputs": [
    {
     "name": "stdout",
     "output_type": "stream",
     "text": [
      "[1.  0.5 0.5 1.  1.  1.  1.  1.  1.  1. ]\n",
      "0.90 accuracy with a standard deviation of 0.20\n"
     ]
    },
    {
     "name": "stderr",
     "output_type": "stream",
     "text": [
      "/Users/shalize/opt/anaconda3/lib/python3.8/site-packages/sklearn/model_selection/_split.py:666: UserWarning: The least populated class in y has only 2 members, which is less than n_splits=10.\n",
      "  warnings.warn((\"The least populated class in y has only %d\"\n"
     ]
    }
   ],
   "source": [
    "folds = 10\n",
    "scores = cross_val_score(svm_clf, X, y, cv=folds)\n",
    "print(scores)\n",
    "print(\"%0.2f accuracy with a standard deviation of %0.2f\" % (scores.mean(), scores.std()))\n",
    "#source: https://scikit-learn.org/stable/modules/cross_validation.html"
   ]
  }
 ],
 "metadata": {
  "kernelspec": {
   "display_name": "Python 3",
   "language": "python",
   "name": "python3"
  },
  "language_info": {
   "codemirror_mode": {
    "name": "ipython",
    "version": 3
   },
   "file_extension": ".py",
   "mimetype": "text/x-python",
   "name": "python",
   "nbconvert_exporter": "python",
   "pygments_lexer": "ipython3",
   "version": "3.8.8"
  }
 },
 "nbformat": 4,
 "nbformat_minor": 5
}
